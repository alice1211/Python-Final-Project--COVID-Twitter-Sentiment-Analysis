{
 "cells": [
  {
   "cell_type": "code",
   "execution_count": 1,
   "metadata": {},
   "outputs": [],
   "source": [
    "import os\n",
    "import tweepy as tw\n",
    "import pandas as pd\n",
    "import csv"
   ]
  },
  {
   "cell_type": "code",
   "execution_count": 4,
   "metadata": {},
   "outputs": [],
   "source": [
    "consumer_key = \"aODPYB1Gbw8dyCgACFcAwO6wI\"\n",
    "consumer_key_secret = \"F08P3xpxCbhKy0a2cxjM0b1HjV6qzSDIvdPRVKBrq09YI0PA79\"\n",
    "access_token = \"1429992676665958446-8ewNMBPjUzZHaIfCEBuN2NQcThg2aH\"\n",
    "access_token_secret = \"IVuX29eSqQUDW98tz3AeqspLJRbkP6oPKHjKNUFbR2b6v\""
   ]
  },
  {
   "cell_type": "code",
   "execution_count": 5,
   "metadata": {},
   "outputs": [],
   "source": [
    "auth = tw.OAuthHandler(consumer_key, consumer_key_secret)\n",
    "auth.set_access_token(access_token, access_token_secret)\n",
    "api = tw.API(auth, wait_on_rate_limit=True)"
   ]
  },
  {
   "cell_type": "code",
   "execution_count": 6,
   "metadata": {},
   "outputs": [],
   "source": [
    "tsv_file=open(r\"C:\\Users\\Administrator\\Desktop\\test.txt\",'r+')\n",
    "tsv_file_text=open(r\"C:\\Users\\Administrator\\Desktop\\test_text.txt\",'a+')\n",
    "df=csv.reader(tsv_file,delimiter='\\t')\n",
    "\n",
    "consumer_key = \"aODPYB1Gbw8dyCgACFcAwO6wI\"\n",
    "consumer_key_secret = \"F08P3xpxCbhKy0a2cxjM0b1HjV6qzSDIvdPRVKBrq09YI0PA79\"\n",
    "access_token = \"1429992676665958446-8ewNMBPjUzZHaIfCEBuN2NQcThg2aH\"\n",
    "access_token_secret = \"IVuX29eSqQUDW98tz3AeqspLJRbkP6oPKHjKNUFbR2b6v\"\n",
    "\n",
    "auth = tw.OAuthHandler(consumer_key, consumer_key_secret)\n",
    "auth.set_access_token(access_token, access_token_secret)\n",
    "api = tw.API(auth)"
   ]
  },
  {
   "cell_type": "code",
   "execution_count": 7,
   "metadata": {},
   "outputs": [
    {
     "name": "stdout",
     "output_type": "stream",
     "text": [
      "0 /150000000\n"
     ]
    }
   ],
   "source": [
    "counter = 0\n",
    "for line in df:\n",
    "    if counter % 10000000 == 0:\n",
    "        print(counter, '/150000000')\n",
    "    try:\n",
    "        tweetFetched = api.get_status(line[0])\n",
    "        testimonial = TextBlob(tweetFetched.text)\n",
    "        line += [str(text[0])]\n",
    "    except:\n",
    "        line += ['nan', 'nan']\n",
    "        \n",
    "    tsv_file_text.write('\\t'.join(line)+'\\n')\n",
    "    counter += 1"
   ]
  },
  {
   "cell_type": "code",
   "execution_count": null,
   "metadata": {},
   "outputs": [],
   "source": [
    "'''\n",
    "tweets=tw.Cursor(api.search,\n",
    "                q=search_words,\n",
    "                lang='en',\n",
    "                since=date_since).items(5)\n",
    "'''"
   ]
  },
  {
   "cell_type": "code",
   "execution_count": null,
   "metadata": {},
   "outputs": [],
   "source": []
  },
  {
   "cell_type": "code",
   "execution_count": null,
   "metadata": {},
   "outputs": [],
   "source": []
  },
  {
   "cell_type": "code",
   "execution_count": null,
   "metadata": {},
   "outputs": [],
   "source": []
  },
  {
   "cell_type": "code",
   "execution_count": null,
   "metadata": {},
   "outputs": [],
   "source": []
  }
 ],
 "metadata": {
  "kernelspec": {
   "display_name": "Python 3",
   "language": "python",
   "name": "python3"
  },
  "language_info": {
   "codemirror_mode": {
    "name": "ipython",
    "version": 3
   },
   "file_extension": ".py",
   "mimetype": "text/x-python",
   "name": "python",
   "nbconvert_exporter": "python",
   "pygments_lexer": "ipython3",
   "version": "3.8.3"
  }
 },
 "nbformat": 4,
 "nbformat_minor": 4
}
