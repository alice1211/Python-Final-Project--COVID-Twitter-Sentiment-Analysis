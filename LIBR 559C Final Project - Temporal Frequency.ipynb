{
 "cells": [
  {
   "cell_type": "code",
   "execution_count": 1,
   "id": "b55e5d53",
   "metadata": {},
   "outputs": [
    {
     "name": "stdout",
     "output_type": "stream",
     "text": [
      "/Users/audreyli/Documents/University/Test\n"
     ]
    }
   ],
   "source": [
    "cd Documents/University/Test/"
   ]
  },
  {
   "cell_type": "code",
   "execution_count": 5,
   "id": "062396e4",
   "metadata": {},
   "outputs": [
    {
     "name": "stderr",
     "output_type": "stream",
     "text": [
      "IOPub data rate exceeded.\n",
      "The notebook server will temporarily stop sending output\n",
      "to the client in order to avoid crashing it.\n",
      "To change this limit, set the config variable\n",
      "`--NotebookApp.iopub_data_rate_limit`.\n",
      "\n",
      "Current values:\n",
      "NotebookApp.iopub_data_rate_limit=1000000.0 (bytes/sec)\n",
      "NotebookApp.rate_limit_window=3.0 (secs)\n",
      "\n"
     ]
    },
    {
     "data": {
      "text/plain": [
       "Counter({'04': 1,\n",
       "         '06': 2,\n",
       "         '08': 4,\n",
       "         '09': 11,\n",
       "         '10': 4,\n",
       "         '11': 9,\n",
       "         '12': 3,\n",
       "         '13': 3,\n",
       "         '17': 19,\n",
       "         '18': 9,\n",
       "         '19': 3,\n",
       "         '20': 70,\n",
       "         '21': 95,\n",
       "         '22': 385,\n",
       "         '23': 597,\n",
       "         '24': 906,\n",
       "         '25': 993,\n",
       "         '26': 1198,\n",
       "         '27': 5688})"
      ]
     },
     "execution_count": 5,
     "metadata": {},
     "output_type": "execute_result"
    }
   ],
   "source": [
    "data_file= open(\"WORK first 10000.txt\", \"r\").readlines()\n",
    "\n",
    "instances= []\n",
    "with open(\"WORK first 10000.txt\", \"r\") as data_file:\n",
    "    for line in data_file:\n",
    "        if \"2020-01\" in line[20:27]: \n",
    "            day= line[28:30]\n",
    "            instances.append(day)\n",
    "            print(instances)\n",
    "            \n",
    "# The index positions are the same in every line so it works for this dataset, but if there's a more elegant \n",
    "# solution, I'd love your thoughts\n",
    "            \n",
    "from collections import Counter\n",
    "Counter(instances)"
   ]
  },
  {
   "cell_type": "code",
   "execution_count": 6,
   "id": "2b7d38d4",
   "metadata": {},
   "outputs": [
    {
     "name": "stdout",
     "output_type": "stream",
     "text": [
      "{'04': 1, '06': 2, '08': 4, '09': 11, '10': 4, '11': 9, '12': 3, '13': 3, '17': 19, '18': 9, '19': 3, '20': 70, '21': 95, '22': 385, '23': 597, '24': 906, '25': 993, '26': 1198, '27': 5688}\n"
     ]
    }
   ],
   "source": [
    "tweets_per_day= dict(Counter(instances))\n",
    "print(tweets_per_day)"
   ]
  },
  {
   "cell_type": "code",
   "execution_count": null,
   "id": "74b45a98",
   "metadata": {},
   "outputs": [],
   "source": [
    "# Still working on visualization, gonna be playing around with seaborn tonight"
   ]
  }
 ],
 "metadata": {
  "kernelspec": {
   "display_name": "Python 3",
   "language": "python",
   "name": "python3"
  },
  "language_info": {
   "codemirror_mode": {
    "name": "ipython",
    "version": 3
   },
   "file_extension": ".py",
   "mimetype": "text/x-python",
   "name": "python",
   "nbconvert_exporter": "python",
   "pygments_lexer": "ipython3",
   "version": "3.8.8"
  }
 },
 "nbformat": 4,
 "nbformat_minor": 5
}
